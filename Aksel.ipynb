{
 "cells": [
  {
   "cell_type": "code",
   "execution_count": null,
   "metadata": {},
   "outputs": [],
   "source": [
    "import pandas as pd\n",
    "import openpyxl\n",
    "import seaborn as sb\n",
    "pd.set_option(\"display.max_rows\", None, \"display.max_columns\", None) #T: Print an entire pandas DataFrame. Source: Kite, retrieved on 29 Sep 2021, https://www.kite.com/python/answers/how-to-print-an-entire-pandas-dataframe-in-python\n",
    "\n",
    "vstPathFile = r\"C:\\Users\\aksel\\OneDrive\\Masaüstü\\AgriAIChallenge\\AgriAIChallenge\\C2 - Grain-Only.xlsx\"\n",
    "\n",
    "sheets_dict = pd.read_excel(vstPathFile, sheet_name=None, header=None)\n",
    "\n",
    "full_table_grainonly = pd.DataFrame()\n",
    "for name, sheet in sheets_dict.items():\n",
    "    sheet.insert(loc=0, column=\"Sheet\", value=name, allow_duplicates=True)\n",
    "    sheet.insert(loc=1, column=\"Row\", value=sheet.index+1, allow_duplicates=True)\n",
    "    full_table_grainonly = pd.concat([full_table_grainonly,sheet])\n",
    "\n",
    "full_table_grainonly.reset_index(inplace=True, drop=True)\n",
    "full_table_grainonly"
   ]
  },
  {
   "cell_type": "code",
   "execution_count": null,
   "metadata": {},
   "outputs": [],
   "source": [
    "import pandas as pd\n",
    "import openpyxl\n",
    "\n",
    "pd.set_option(\"display.max_rows\", None, \"display.max_columns\", None) #T: Print an entire pandas DataFrame. Source: Kite, retrieved on 29 Sep 2021, https://www.kite.com/python/answers/how-to-print-an-entire-pandas-dataframe-in-python\n",
    "\n",
    "vstPathFile = r\"C:\\Users\\aksel\\OneDrive\\Masaüstü\\AgriAIChallenge\\AgriAIChallenge\\C2 - Graze-Out.xlsx\"\n",
    "\n",
    "sheets_dict = pd.read_excel(vstPathFile, sheet_name=None, header=None)\n",
    "\n",
    "full_table_grazeout = pd.DataFrame()\n",
    "for name, sheet in sheets_dict.items():\n",
    "    sheet.insert(loc=0, column=\"Sheet\", value=name, allow_duplicates=True)\n",
    "    sheet.insert(loc=1, column=\"Row\", value=sheet.index+1, allow_duplicates=True)\n",
    "    full_table_grazeout = pd.concat([full_table_grazeout,sheet])\n",
    "\n",
    "full_table_grazeout.reset_index(inplace=True, drop=True)\n",
    "full_table_grazeout"
   ]
  }
 ],
 "metadata": {
  "kernelspec": {
   "display_name": "Python 3",
   "language": "python",
   "name": "python3"
  },
  "language_info": {
   "codemirror_mode": {
    "name": "ipython",
    "version": 3
   },
   "file_extension": ".py",
   "mimetype": "text/x-python",
   "name": "python",
   "nbconvert_exporter": "python",
   "pygments_lexer": "ipython3",
   "version": "3.11.9"
  }
 },
 "nbformat": 4,
 "nbformat_minor": 2
}

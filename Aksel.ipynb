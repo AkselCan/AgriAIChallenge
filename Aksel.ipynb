{
 "cells": [
  {
   "cell_type": "code",
   "execution_count": 7,
   "metadata": {},
   "outputs": [],
   "source": [
    "import pandas as pd\n",
    "import openpyxl\n",
    "import seaborn as sb\n",
    "import plotly as plt \n",
    "import seaborn as sns\n",
    "import statsmodels.api as sm\n",
    "import statsmodels.formula.api as smf\n"
   ]
  },
  {
   "cell_type": "markdown",
   "metadata": {},
   "source": [
    "### Combining the data from all sites into one set"
   ]
  },
  {
   "cell_type": "code",
   "execution_count": 3,
   "metadata": {},
   "outputs": [
    {
     "name": "stdout",
     "output_type": "stream",
     "text": [
      "         ET      NEE         ER        GPP   TMAX   TMIN   TAVG   HAVG   HDEG  \\\n",
      "0  1.617969 -2.828749  2.517847   5.346596  64.13  32.57  45.41  56.38  16.65   \n",
      "1  0.360643  0.088979  1.672916   1.583937  54.61  22.20  34.70  44.08  26.60   \n",
      "2  3.132401 -9.900786  6.451632  16.352418  70.39  38.83  53.87  63.12  10.39   \n",
      "3  3.586924  0.220666  5.854790   5.634124  71.17  46.85  59.15  70.87   5.99   \n",
      "4  2.952782 -0.110965  6.583431   6.694396  75.11  42.93  59.84  69.66   5.98   \n",
      "\n",
      "   CDEG   WCMN   WSPD   ATOT  RAIN       EVI  \n",
      "0   0.0  25.03  16.80  12.69  0.00  0.751000  \n",
      "1   0.0  13.02   8.45  11.36  0.00  0.787000  \n",
      "2   0.0  33.60   6.18  25.53  0.00  0.983000  \n",
      "3   0.0  45.81  10.78  28.15  0.01  0.375000  \n",
      "4   0.0  41.04   4.89  28.07  0.00  0.358222  \n"
     ]
    }
   ],
   "source": [
    "# Path to the Excel file\n",
    "file_path = r\"C:\\Users\\aksel\\OneDrive\\Masaüstü\\AgriAIChallenge\\AgriAIChallenge\\C2 - Grain-Only.xlsx\"\n",
    "\n",
    "# Load all sheets\n",
    "xls = pd.ExcelFile(file_path)\n",
    "sheets = xls.sheet_names\n",
    "\n",
    "# Read each sheet and append to a list\n",
    "dataframes = [xls.parse(sheet_name) for sheet_name in sheets]\n",
    "\n",
    "# Concatenate all DataFrames into one\n",
    "combined_df = pd.concat(dataframes, ignore_index=True)\n",
    "\n",
    "# Show the combined DataFrame\n",
    "print(combined_df.head())\n",
    "copydf_grainonly = combined_df.copy()\n",
    "\n",
    "# copydf_grainonly"
   ]
  },
  {
   "cell_type": "code",
   "execution_count": 4,
   "metadata": {},
   "outputs": [
    {
     "data": {
      "text/html": [
       "<div>\n",
       "<style scoped>\n",
       "    .dataframe tbody tr th:only-of-type {\n",
       "        vertical-align: middle;\n",
       "    }\n",
       "\n",
       "    .dataframe tbody tr th {\n",
       "        vertical-align: top;\n",
       "    }\n",
       "\n",
       "    .dataframe thead th {\n",
       "        text-align: right;\n",
       "    }\n",
       "</style>\n",
       "<table border=\"1\" class=\"dataframe\">\n",
       "  <thead>\n",
       "    <tr style=\"text-align: right;\">\n",
       "      <th></th>\n",
       "      <th>ET</th>\n",
       "      <th>NEE</th>\n",
       "      <th>ER</th>\n",
       "      <th>GPP</th>\n",
       "      <th>TMAX</th>\n",
       "      <th>TMIN</th>\n",
       "      <th>TAVG</th>\n",
       "      <th>HAVG</th>\n",
       "      <th>HDEG</th>\n",
       "      <th>CDEG</th>\n",
       "      <th>WCMN</th>\n",
       "      <th>WSPD</th>\n",
       "      <th>ATOT</th>\n",
       "      <th>RAIN</th>\n",
       "      <th>EVI</th>\n",
       "    </tr>\n",
       "  </thead>\n",
       "  <tbody>\n",
       "    <tr>\n",
       "      <th>count</th>\n",
       "      <td>755.000000</td>\n",
       "      <td>755.000000</td>\n",
       "      <td>755.000000</td>\n",
       "      <td>755.000000</td>\n",
       "      <td>755.000000</td>\n",
       "      <td>755.000000</td>\n",
       "      <td>755.000000</td>\n",
       "      <td>755.000000</td>\n",
       "      <td>755.000000</td>\n",
       "      <td>755.000000</td>\n",
       "      <td>755.000000</td>\n",
       "      <td>755.000000</td>\n",
       "      <td>755.000000</td>\n",
       "      <td>755.000000</td>\n",
       "      <td>755.000000</td>\n",
       "    </tr>\n",
       "    <tr>\n",
       "      <th>mean</th>\n",
       "      <td>1.501818</td>\n",
       "      <td>-0.359853</td>\n",
       "      <td>2.551748</td>\n",
       "      <td>2.911601</td>\n",
       "      <td>61.044199</td>\n",
       "      <td>34.151192</td>\n",
       "      <td>47.078371</td>\n",
       "      <td>67.600066</td>\n",
       "      <td>17.878609</td>\n",
       "      <td>0.476238</td>\n",
       "      <td>-148.362424</td>\n",
       "      <td>-70.277987</td>\n",
       "      <td>-4.161205</td>\n",
       "      <td>0.056291</td>\n",
       "      <td>0.314390</td>\n",
       "    </tr>\n",
       "    <tr>\n",
       "      <th>std</th>\n",
       "      <td>1.048024</td>\n",
       "      <td>2.082363</td>\n",
       "      <td>1.651117</td>\n",
       "      <td>2.687527</td>\n",
       "      <td>14.162797</td>\n",
       "      <td>12.388434</td>\n",
       "      <td>12.249897</td>\n",
       "      <td>15.919842</td>\n",
       "      <td>11.478352</td>\n",
       "      <td>2.386358</td>\n",
       "      <td>383.368611</td>\n",
       "      <td>274.666442</td>\n",
       "      <td>131.540531</td>\n",
       "      <td>0.181482</td>\n",
       "      <td>0.197022</td>\n",
       "    </tr>\n",
       "    <tr>\n",
       "      <th>min</th>\n",
       "      <td>-0.368483</td>\n",
       "      <td>-13.211302</td>\n",
       "      <td>0.573142</td>\n",
       "      <td>0.068792</td>\n",
       "      <td>16.110000</td>\n",
       "      <td>-0.290000</td>\n",
       "      <td>9.790000</td>\n",
       "      <td>31.070000</td>\n",
       "      <td>0.000000</td>\n",
       "      <td>0.000000</td>\n",
       "      <td>-996.000000</td>\n",
       "      <td>-996.000000</td>\n",
       "      <td>-996.000000</td>\n",
       "      <td>0.000000</td>\n",
       "      <td>0.094000</td>\n",
       "    </tr>\n",
       "    <tr>\n",
       "      <th>25%</th>\n",
       "      <td>0.746622</td>\n",
       "      <td>-1.179107</td>\n",
       "      <td>1.555234</td>\n",
       "      <td>0.991610</td>\n",
       "      <td>52.680000</td>\n",
       "      <td>26.300000</td>\n",
       "      <td>38.760000</td>\n",
       "      <td>55.870000</td>\n",
       "      <td>9.335000</td>\n",
       "      <td>0.000000</td>\n",
       "      <td>12.190000</td>\n",
       "      <td>7.290000</td>\n",
       "      <td>8.970000</td>\n",
       "      <td>0.000000</td>\n",
       "      <td>0.122200</td>\n",
       "    </tr>\n",
       "    <tr>\n",
       "      <th>50%</th>\n",
       "      <td>1.259801</td>\n",
       "      <td>0.036701</td>\n",
       "      <td>2.166784</td>\n",
       "      <td>2.254483</td>\n",
       "      <td>61.790000</td>\n",
       "      <td>32.520000</td>\n",
       "      <td>46.690000</td>\n",
       "      <td>67.270000</td>\n",
       "      <td>17.890000</td>\n",
       "      <td>0.000000</td>\n",
       "      <td>21.660000</td>\n",
       "      <td>9.470000</td>\n",
       "      <td>12.310000</td>\n",
       "      <td>0.000000</td>\n",
       "      <td>0.261333</td>\n",
       "    </tr>\n",
       "    <tr>\n",
       "      <th>75%</th>\n",
       "      <td>1.966624</td>\n",
       "      <td>0.866519</td>\n",
       "      <td>2.797170</td>\n",
       "      <td>4.008380</td>\n",
       "      <td>71.580000</td>\n",
       "      <td>41.230000</td>\n",
       "      <td>55.500000</td>\n",
       "      <td>78.860000</td>\n",
       "      <td>25.970000</td>\n",
       "      <td>0.000000</td>\n",
       "      <td>29.230000</td>\n",
       "      <td>13.240000</td>\n",
       "      <td>17.100000</td>\n",
       "      <td>0.010000</td>\n",
       "      <td>0.480000</td>\n",
       "    </tr>\n",
       "    <tr>\n",
       "      <th>max</th>\n",
       "      <td>6.431177</td>\n",
       "      <td>6.518080</td>\n",
       "      <td>12.959193</td>\n",
       "      <td>21.842996</td>\n",
       "      <td>94.620000</td>\n",
       "      <td>76.820000</td>\n",
       "      <td>85.280000</td>\n",
       "      <td>99.060000</td>\n",
       "      <td>53.850000</td>\n",
       "      <td>20.720000</td>\n",
       "      <td>48.980000</td>\n",
       "      <td>23.840000</td>\n",
       "      <td>30.200000</td>\n",
       "      <td>3.200000</td>\n",
       "      <td>1.074000</td>\n",
       "    </tr>\n",
       "  </tbody>\n",
       "</table>\n",
       "</div>"
      ],
      "text/plain": [
       "               ET        NEE           ER         GPP        TMAX        TMIN  \\\n",
       "count  755.000000  755.000000  755.000000  755.000000  755.000000  755.000000   \n",
       "mean     1.501818   -0.359853    2.551748    2.911601   61.044199   34.151192   \n",
       "std      1.048024    2.082363    1.651117    2.687527   14.162797   12.388434   \n",
       "min     -0.368483  -13.211302    0.573142    0.068792   16.110000   -0.290000   \n",
       "25%      0.746622   -1.179107    1.555234    0.991610   52.680000   26.300000   \n",
       "50%      1.259801    0.036701    2.166784    2.254483   61.790000   32.520000   \n",
       "75%      1.966624    0.866519    2.797170    4.008380   71.580000   41.230000   \n",
       "max      6.431177    6.518080   12.959193   21.842996   94.620000   76.820000   \n",
       "\n",
       "             TAVG        HAVG        HDEG        CDEG        WCMN        WSPD  \\\n",
       "count  755.000000  755.000000  755.000000  755.000000  755.000000  755.000000   \n",
       "mean    47.078371   67.600066   17.878609    0.476238 -148.362424  -70.277987   \n",
       "std     12.249897   15.919842   11.478352    2.386358  383.368611  274.666442   \n",
       "min      9.790000   31.070000    0.000000    0.000000 -996.000000 -996.000000   \n",
       "25%     38.760000   55.870000    9.335000    0.000000   12.190000    7.290000   \n",
       "50%     46.690000   67.270000   17.890000    0.000000   21.660000    9.470000   \n",
       "75%     55.500000   78.860000   25.970000    0.000000   29.230000   13.240000   \n",
       "max     85.280000   99.060000   53.850000   20.720000   48.980000   23.840000   \n",
       "\n",
       "             ATOT        RAIN         EVI  \n",
       "count  755.000000  755.000000  755.000000  \n",
       "mean    -4.161205    0.056291    0.314390  \n",
       "std    131.540531    0.181482    0.197022  \n",
       "min   -996.000000    0.000000    0.094000  \n",
       "25%      8.970000    0.000000    0.122200  \n",
       "50%     12.310000    0.000000    0.261333  \n",
       "75%     17.100000    0.010000    0.480000  \n",
       "max     30.200000    3.200000    1.074000  "
      ]
     },
     "execution_count": 4,
     "metadata": {},
     "output_type": "execute_result"
    }
   ],
   "source": [
    "copydf_grainonly.describe()"
   ]
  },
  {
   "cell_type": "markdown",
   "metadata": {},
   "source": [
    "## A.1"
   ]
  },
  {
   "cell_type": "markdown",
   "metadata": {},
   "source": [
    "### Exploratory data analysis with correlation heatmap"
   ]
  },
  {
   "cell_type": "code",
   "execution_count": 5,
   "metadata": {},
   "outputs": [
    {
     "data": {
      "text/plain": [
       "<module 'plotly' from 'C:\\\\Users\\\\aksel\\\\AppData\\\\Local\\\\Packages\\\\PythonSoftwareFoundation.Python.3.11_qbz5n2kfra8p0\\\\LocalCache\\\\local-packages\\\\Python311\\\\site-packages\\\\plotly\\\\__init__.py'>"
      ]
     },
     "execution_count": 5,
     "metadata": {},
     "output_type": "execute_result"
    },
    {
     "data": {
      "image/png": "[encoded data removed]",
      "text/plain": [
       "<Figure size 640x480 with 2 Axes>"
      ]
     },
     "metadata": {},
     "output_type": "display_data"
    }
   ],
   "source": [
    "# Calculate the correlation matrix\n",
    "correlation_matrix = copydf_grainonly.corr()\n",
    "\n",
    "# Create the heatmap\n",
    "\n",
    "sns.heatmap(correlation_matrix, annot=True, fmt=\".2f\", cmap = 'coolwarm')\n",
    "plt"
   ]
  },
  {
   "cell_type": "markdown",
   "metadata": {},
   "source": [
    "## A.2"
   ]
  },
  {
   "cell_type": "markdown",
   "metadata": {},
   "source": [
    "### Spearman on EVI"
   ]
  },
  {
   "cell_type": "code",
   "execution_count": 6,
   "metadata": {},
   "outputs": [
    {
     "data": {
      "text/plain": [
       "EVI     1.000000\n",
       "GPP     0.749694\n",
       "ER      0.381888\n",
       "ATOT    0.206128\n",
       "ET      0.104123\n",
       "TMAX    0.073859\n",
       "TAVG    0.025166\n",
       "CDEG   -0.009016\n",
       "HDEG   -0.029996\n",
       "TMIN   -0.051737\n",
       "WCMN   -0.072536\n",
       "WSPD   -0.093511\n",
       "RAIN   -0.127899\n",
       "HAVG   -0.234938\n",
       "NEE    -0.664961\n",
       "Name: EVI, dtype: float64"
      ]
     },
     "execution_count": 6,
     "metadata": {},
     "output_type": "execute_result"
    }
   ],
   "source": [
    "# Compute the Spearman correlation matrix\n",
    "spearman_corr = copydf_grainonly.corr(method='spearman')\n",
    "\n",
    "# Display the correlation coefficients with EVI\n",
    "spearman_corr_evi = spearman_corr['EVI'].sort_values(ascending=False)\n",
    "spearman_corr_evi"
   ]
  },
  {
   "cell_type": "markdown",
   "metadata": {},
   "source": [
    "### SEM on flux attributes"
   ]
  },
  {
   "cell_type": "code",
   "execution_count": 9,
   "metadata": {},
   "outputs": [],
   "source": [
    "models = {\n",
    "    'ET': 'ET ~ TMAX + TMIN + TAVG + HAVG',\n",
    "    'NEE': 'NEE ~ TMAX + TMIN + TAVG + HAVG',\n",
    "    'ER': 'ER ~ TMAX + TMIN + TAVG + HAVG',\n",
    "    'GPP': 'GPP ~ TMAX + TMIN + TAVG + HAVG'\n",
    "}"
   ]
  },
  {
   "cell_type": "code",
   "execution_count": 10,
   "metadata": {},
   "outputs": [
    {
     "data": {
      "text/plain": [
       "{'ET': '                            OLS Regression Results                            \\n==============================================================================\\nDep. Variable:                     ET   R-squared:                       0.281\\nModel:                            OLS   Adj. R-squared:                  0.277\\nMethod:                 Least Squares   F-statistic:                     73.32\\nDate:                Mon, 15 Apr 2024   Prob (F-statistic):           1.87e-52\\nTime:                        13:18:10   Log-Likelihood:                -981.61\\nNo. Observations:                 755   AIC:                             1973.\\nDf Residuals:                     750   BIC:                             1996.\\nDf Model:                           4                                         \\nCovariance Type:            nonrobust                                         \\n==============================================================================\\n                 coef    std err          t      P>|t|      [0.025      0.975]\\n------------------------------------------------------------------------------\\nIntercept      0.0456      0.320      0.143      0.887      -0.582       0.673\\nTMAX          -0.0289      0.010     -2.868      0.004      -0.049      -0.009\\nTMIN          -0.0414      0.011     -3.777      0.000      -0.063      -0.020\\nTAVG           0.1103      0.019      5.784      0.000       0.073       0.148\\nHAVG          -0.0082      0.003     -2.952      0.003      -0.014      -0.003\\n==============================================================================\\nOmnibus:                      281.763   Durbin-Watson:                   0.921\\nProb(Omnibus):                  0.000   Jarque-Bera (JB):             1431.021\\nSkew:                           1.625   Prob(JB):                    1.81e-311\\nKurtosis:                       8.910   Cond. No.                     1.08e+03\\n==============================================================================\\n\\nNotes:\\n[1] Standard Errors assume that the covariance matrix of the errors is correctly specified.\\n[2] The condition number is large, 1.08e+03. This might indicate that there are\\nstrong multicollinearity or other numerical problems.',\n",
       " 'NEE': '                            OLS Regression Results                            \\n==============================================================================\\nDep. Variable:                    NEE   R-squared:                       0.112\\nModel:                            OLS   Adj. R-squared:                  0.108\\nMethod:                 Least Squares   F-statistic:                     23.76\\nDate:                Mon, 15 Apr 2024   Prob (F-statistic):           1.59e-18\\nTime:                        13:18:10   Log-Likelihood:                -1579.5\\nNo. Observations:                 755   AIC:                             3169.\\nDf Residuals:                     750   BIC:                             3192.\\nDf Model:                           4                                         \\nCovariance Type:            nonrobust                                         \\n==============================================================================\\n                 coef    std err          t      P>|t|      [0.025      0.975]\\n------------------------------------------------------------------------------\\nIntercept     -3.0572      0.706     -4.330      0.000      -4.443      -1.671\\nTMAX          -0.0319      0.022     -1.433      0.152      -0.076       0.012\\nTMIN           0.0106      0.024      0.439      0.661      -0.037       0.058\\nTAVG           0.0419      0.042      0.996      0.319      -0.041       0.125\\nHAVG           0.0342      0.006      5.571      0.000       0.022       0.046\\n==============================================================================\\nOmnibus:                      255.787   Durbin-Watson:                   0.636\\nProb(Omnibus):                  0.000   Jarque-Bera (JB):             1097.534\\nSkew:                          -1.517   Prob(JB):                    4.71e-239\\nKurtosis:                       8.068   Cond. No.                     1.08e+03\\n==============================================================================\\n\\nNotes:\\n[1] Standard Errors assume that the covariance matrix of the errors is correctly specified.\\n[2] The condition number is large, 1.08e+03. This might indicate that there are\\nstrong multicollinearity or other numerical problems.',\n",
       " 'ER': '                            OLS Regression Results                            \\n==============================================================================\\nDep. Variable:                     ER   R-squared:                       0.414\\nModel:                            OLS   Adj. R-squared:                  0.411\\nMethod:                 Least Squares   F-statistic:                     132.6\\nDate:                Mon, 15 Apr 2024   Prob (F-statistic):           1.17e-85\\nTime:                        13:18:10   Log-Likelihood:                -1247.4\\nNo. Observations:                 755   AIC:                             2505.\\nDf Residuals:                     750   BIC:                             2528.\\nDf Model:                           4                                         \\nCovariance Type:            nonrobust                                         \\n==============================================================================\\n                 coef    std err          t      P>|t|      [0.025      0.975]\\n------------------------------------------------------------------------------\\nIntercept     -2.2032      0.455     -4.844      0.000      -3.096      -1.310\\nTMAX          -0.0653      0.014     -4.551      0.000      -0.094      -0.037\\nTMIN          -0.0895      0.016     -5.750      0.000      -0.120      -0.059\\nTAVG           0.2394      0.027      8.834      0.000       0.186       0.293\\nHAVG           0.0078      0.004      1.976      0.048    5.17e-05       0.016\\n==============================================================================\\nOmnibus:                      422.182   Durbin-Watson:                   0.634\\nProb(Omnibus):                  0.000   Jarque-Bera (JB):             4816.343\\nSkew:                           2.290   Prob(JB):                         0.00\\nKurtosis:                      14.495   Cond. No.                     1.08e+03\\n==============================================================================\\n\\nNotes:\\n[1] Standard Errors assume that the covariance matrix of the errors is correctly specified.\\n[2] The condition number is large, 1.08e+03. This might indicate that there are\\nstrong multicollinearity or other numerical problems.',\n",
       " 'GPP': '                            OLS Regression Results                            \\n==============================================================================\\nDep. Variable:                    GPP   R-squared:                       0.176\\nModel:                            OLS   Adj. R-squared:                  0.171\\nMethod:                 Least Squares   F-statistic:                     39.97\\nDate:                Mon, 15 Apr 2024   Prob (F-statistic):           2.28e-30\\nTime:                        13:18:10   Log-Likelihood:                -1744.3\\nNo. Observations:                 755   AIC:                             3499.\\nDf Residuals:                     750   BIC:                             3522.\\nDf Model:                           4                                         \\nCovariance Type:            nonrobust                                         \\n==============================================================================\\n                 coef    std err          t      P>|t|      [0.025      0.975]\\n------------------------------------------------------------------------------\\nIntercept      0.8540      0.878      0.972      0.331      -0.870       2.578\\nTMAX          -0.0334      0.028     -1.204      0.229      -0.088       0.021\\nTMIN          -0.1001      0.030     -3.330      0.001      -0.159      -0.041\\nTAVG           0.1975      0.052      3.774      0.000       0.095       0.300\\nHAVG          -0.0264      0.008     -3.455      0.001      -0.041      -0.011\\n==============================================================================\\nOmnibus:                      432.550   Durbin-Watson:                   0.647\\nProb(Omnibus):                  0.000   Jarque-Bera (JB):             4437.923\\nSkew:                           2.411   Prob(JB):                         0.00\\nKurtosis:                      13.855   Cond. No.                     1.08e+03\\n==============================================================================\\n\\nNotes:\\n[1] Standard Errors assume that the covariance matrix of the errors is correctly specified.\\n[2] The condition number is large, 1.08e+03. This might indicate that there are\\nstrong multicollinearity or other numerical problems.'}"
      ]
     },
     "execution_count": 10,
     "metadata": {},
     "output_type": "execute_result"
    }
   ],
   "source": [
    "# Correct the column names by stripping whitespace\n",
    "copydf_grainonly.columns = copydf_grainonly.columns.str.strip()\n",
    "\n",
    "# Retry fitting the models\n",
    "results_corrected = {}\n",
    "for flux_attribute, formula in models.items():\n",
    "    model = smf.ols(formula, data=copydf_grainonly)\n",
    "    results_corrected[flux_attribute] = model.fit()\n",
    "\n",
    "# Display the summary for each corrected model\n",
    "model_summaries = {flux_attribute: result.summary().as_text() for flux_attribute, result in results_corrected.items()}\n",
    "model_summaries\n"
   ]
  },
  {
   "cell_type": "markdown",
   "metadata": {},
   "source": [
    "## A.3"
   ]
  },
  {
   "cell_type": "markdown",
   "metadata": {},
   "source": [
    "### Identifying key attributes"
   ]
  },
  {
   "cell_type": "code",
   "execution_count": 11,
   "metadata": {},
   "outputs": [
    {
     "name": "stdout",
     "output_type": "stream",
     "text": [
      "Dependent Variable: ET\n",
      "R-squared: 0.281, Adjusted R-squared: 0.277\n",
      "Significant Predictors: TMAX (coef=-0.029, p=0.004), TMIN (coef=-0.041, p=0.000), TAVG (coef=0.110, p=0.000), HAVG (coef=-0.008, p=0.003)\n",
      "\n",
      "---\n",
      "\n",
      "Dependent Variable: NEE\n",
      "R-squared: 0.112, Adjusted R-squared: 0.108\n",
      "Significant Predictors: HAVG (coef=0.034, p=0.000)\n",
      "\n",
      "---\n",
      "\n",
      "Dependent Variable: ER\n",
      "R-squared: 0.414, Adjusted R-squared: 0.411\n",
      "Significant Predictors: TMAX (coef=-0.065, p=0.000), TMIN (coef=-0.090, p=0.000), TAVG (coef=0.239, p=0.000), HAVG (coef=0.008, p=0.048)\n",
      "\n",
      "---\n",
      "\n",
      "Dependent Variable: GPP\n",
      "R-squared: 0.176, Adjusted R-squared: 0.171\n",
      "Significant Predictors: TMIN (coef=-0.100, p=0.001), TAVG (coef=0.198, p=0.000), HAVG (coef=-0.026, p=0.001)\n",
      "\n",
      "---\n",
      "\n"
     ]
    }
   ],
   "source": [
    "# Create a condensed summary of results\n",
    "condensed_summaries = {}\n",
    "\n",
    "for flux_attribute, result in results_corrected.items():\n",
    "    # Extract key results\n",
    "    r_squared = result.rsquared\n",
    "    adj_r_squared = result.rsquared_adj\n",
    "    significant_predictors = result.pvalues[result.pvalues < 0.05]\n",
    "    predictors_summary = \", \".join([f\"{pred} (coef={result.params[pred]:.3f}, p={result.pvalues[pred]:.3f})\" \n",
    "                                    for pred in significant_predictors.index if pred != \"Intercept\"])\n",
    "    \n",
    "    # Create a compact summary\n",
    "    condensed_summary = (f\"Dependent Variable: {flux_attribute}\\n\"\n",
    "                         f\"R-squared: {r_squared:.3f}, Adjusted R-squared: {adj_r_squared:.3f}\\n\"\n",
    "                         f\"Significant Predictors: {predictors_summary if predictors_summary else 'None'}\\n\")\n",
    "    \n",
    "    condensed_summaries[flux_attribute] = condensed_summary\n",
    "\n",
    "# Display the condensed summaries\n",
    "for attribute, summary in condensed_summaries.items():\n",
    "    print(summary + \"\\n---\\n\")\n"
   ]
  },
  {
   "cell_type": "code",
   "execution_count": 23,
   "metadata": {},
   "outputs": [],
   "source": [
    "import math\n",
    "from sklearn.model_selection import train_test_split\n",
    "from sklearn.linear_model import LinearRegression\n",
    "from sklearn.metrics import mean_squared_error, mean_absolute_error, r2_score"
   ]
  },
  {
   "cell_type": "markdown",
   "metadata": {},
   "source": [
    "## Part B"
   ]
  },
  {
   "cell_type": "markdown",
   "metadata": {},
   "source": [
    "### Building predictive regression models for each flux attribute"
   ]
  },
  {
   "cell_type": "code",
   "execution_count": 28,
   "metadata": {},
   "outputs": [
    {
     "name": "stdout",
     "output_type": "stream",
     "text": [
      "MAE : \n",
      "0.6269211764741075\n",
      "RMSE: \n",
      "0.9106141669097984\n",
      "R2 score: \n",
      "0.3353240769132839\n"
     ]
    }
   ],
   "source": [
    "# Selecting features and target\n",
    "features = copydf_grainonly[['TMAX', 'TMIN', 'TAVG', 'HAVG', 'HDEG', 'CDEG', 'WCMN', 'WSPD', 'ATOT', 'RAIN', 'EVI']]\n",
    "target = copydf_grainonly['ET']\n",
    "\n",
    "# Splitting the data into training and testing sets\n",
    "X_train, X_test, y_train, y_test = train_test_split(features, target, test_size=0.2, random_state=42)\n",
    "\n",
    "# Building the regression model\n",
    "reg_model = LinearRegression()\n",
    "reg_model.fit(X_train, y_train)\n",
    "\n",
    "# Predicting on the test set\n",
    "y_pred = reg_model.predict(X_test)\n",
    "\n",
    "# Evaluating the model\n",
    "r2 = r2_score(y_test, y_pred)\n",
    "rmse = mean_squared_error(y_test, y_pred, squared=False)\n",
    "mae = mean_absolute_error(y_test, y_pred)\n",
    "\n",
    "print(\"MAE : \")\n",
    "print(mae)\n",
    "print(\"RMSE: \")\n",
    "print(rmse)\n",
    "print(\"R2 score: \")\n",
    "print(r2)"
   ]
  },
  {
   "cell_type": "code",
   "execution_count": 29,
   "metadata": {},
   "outputs": [
    {
     "name": "stdout",
     "output_type": "stream",
     "text": [
      "MAE : \n",
      "1.1695140616628374\n",
      "RMSE: \n",
      "1.7827598881724145\n",
      "R2 score: \n",
      "0.49474390016999914\n"
     ]
    }
   ],
   "source": [
    "# Selecting features and target\n",
    "features = copydf_grainonly[['TMAX', 'TMIN', 'TAVG', 'HAVG', 'HDEG', 'CDEG', 'WCMN', 'WSPD', 'ATOT', 'RAIN', 'EVI']]\n",
    "target = copydf_grainonly['NEE']\n",
    "\n",
    "# Splitting the data into training and testing sets\n",
    "X_train, X_test, y_train, y_test = train_test_split(features, target, test_size=0.2, random_state=42)\n",
    "\n",
    "# Building the regression model\n",
    "reg_model = LinearRegression()\n",
    "reg_model.fit(X_train, y_train)\n",
    "\n",
    "# Predicting on the test set\n",
    "y_pred = reg_model.predict(X_test)\n",
    "\n",
    "# Evaluating the model\n",
    "r2 = r2_score(y_test, y_pred)\n",
    "rmse = mean_squared_error(y_test, y_pred, squared=False)\n",
    "mae = mean_absolute_error(y_test, y_pred)\n",
    "\n",
    "print(\"MAE : \")\n",
    "print(mae)\n",
    "print(\"RMSE: \")\n",
    "print(rmse)\n",
    "print(\"R2 score: \")\n",
    "print(r2)"
   ]
  },
  {
   "cell_type": "code",
   "execution_count": 30,
   "metadata": {},
   "outputs": [
    {
     "name": "stdout",
     "output_type": "stream",
     "text": [
      "MAE : \n",
      "0.7552685898411235\n",
      "RMSE: \n",
      "1.2341811408342622\n",
      "R2 score: \n",
      "0.5567067144436925\n"
     ]
    }
   ],
   "source": [
    "# Selecting features and target\n",
    "features = copydf_grainonly[['TMAX', 'TMIN', 'TAVG', 'HAVG', 'HDEG', 'CDEG', 'WCMN', 'WSPD', 'ATOT', 'RAIN', 'EVI']]\n",
    "target = copydf_grainonly['ER']\n",
    "\n",
    "# Splitting the data into training and testing sets\n",
    "X_train, X_test, y_train, y_test = train_test_split(features, target, test_size=0.2, random_state=42)\n",
    "\n",
    "# Building the regression model\n",
    "reg_model = LinearRegression()\n",
    "reg_model.fit(X_train, y_train)\n",
    "\n",
    "# Predicting on the test set\n",
    "y_pred = reg_model.predict(X_test)\n",
    "\n",
    "# Evaluating the model\n",
    "r2 = r2_score(y_test, y_pred)\n",
    "rmse = mean_squared_error(y_test, y_pred, squared=False)\n",
    "mae = mean_absolute_error(y_test, y_pred)\n",
    "\n",
    "print(\"MAE : \")\n",
    "print(mae)\n",
    "print(\"RMSE: \")\n",
    "print(rmse)\n",
    "print(\"R2 score: \")\n",
    "print(r2)"
   ]
  },
  {
   "cell_type": "code",
   "execution_count": 31,
   "metadata": {},
   "outputs": [
    {
     "name": "stdout",
     "output_type": "stream",
     "text": [
      "MAE : \n",
      "1.110498389595125\n",
      "RMSE: \n",
      "1.9128186647351932\n",
      "R2 score: \n",
      "0.604181191982391\n"
     ]
    }
   ],
   "source": [
    "# Selecting features and target\n",
    "features = copydf_grainonly[['TMAX', 'TMIN', 'TAVG', 'HAVG', 'HDEG', 'CDEG', 'WCMN', 'WSPD', 'ATOT', 'RAIN', 'EVI']]\n",
    "target = copydf_grainonly['GPP']\n",
    "\n",
    "# Splitting the data into training and testing sets\n",
    "X_train, X_test, y_train, y_test = train_test_split(features, target, test_size=0.2, random_state=42)\n",
    "\n",
    "# Building the regression model\n",
    "reg_model = LinearRegression()\n",
    "reg_model.fit(X_train, y_train)\n",
    "\n",
    "# Predicting on the test set\n",
    "y_pred = reg_model.predict(X_test)\n",
    "\n",
    "# Evaluating the model\n",
    "r2 = r2_score(y_test, y_pred)\n",
    "rmse = mean_squared_error(y_test, y_pred, squared=False)\n",
    "mae = mean_absolute_error(y_test, y_pred)\n",
    "\n",
    "print(\"MAE : \")\n",
    "print(mae)\n",
    "print(\"RMSE: \")\n",
    "print(rmse)\n",
    "print(\"R2 score: \")\n",
    "print(r2)\n"
   ]
  },
  {
   "cell_type": "markdown",
   "metadata": {},
   "source": [
    "## 5.a"
   ]
  },
  {
   "cell_type": "code",
   "execution_count": 32,
   "metadata": {},
   "outputs": [
    {
     "name": "stdout",
     "output_type": "stream",
     "text": [
      "MAE : \n",
      "0.5774141441397249\n",
      "RMSE: \n",
      "0.8408159424502218\n",
      "R2 score: \n",
      "0.4333133032703712\n"
     ]
    }
   ],
   "source": [
    "# Selecting features and target\n",
    "features = copydf_grainonly[['TMAX', 'TMIN', 'TAVG', 'HAVG', 'HDEG', 'CDEG', 'WCMN', 'WSPD', 'ATOT', 'RAIN', 'NEE', 'EVI']]\n",
    "target = copydf_grainonly['ET']\n",
    "\n",
    "# Splitting the data into training and testing sets\n",
    "X_train, X_test, y_train, y_test = train_test_split(features, target, test_size=0.2, random_state=42)\n",
    "\n",
    "# Building the regression model\n",
    "reg_model = LinearRegression()\n",
    "reg_model.fit(X_train, y_train)\n",
    "\n",
    "# Predicting on the test set\n",
    "y_pred = reg_model.predict(X_test)\n",
    "\n",
    "# Evaluating the model\n",
    "r2 = r2_score(y_test, y_pred)\n",
    "rmse = mean_squared_error(y_test, y_pred, squared=False)\n",
    "mae = mean_absolute_error(y_test, y_pred)\n",
    "\n",
    "print(\"MAE : \")\n",
    "print(mae)\n",
    "print(\"RMSE: \")\n",
    "print(rmse)\n",
    "print(\"R2 score: \")\n",
    "print(r2)\n"
   ]
  },
  {
   "cell_type": "markdown",
   "metadata": {},
   "source": [
    "## 5.b"
   ]
  },
  {
   "cell_type": "code",
   "execution_count": 37,
   "metadata": {},
   "outputs": [
    {
     "name": "stdout",
     "output_type": "stream",
     "text": [
      "MAE : \n",
      "1.1397094081832906\n",
      "RMSE: \n",
      "1.6621178915146801\n",
      "R2 score: \n",
      "0.5608129699110387\n"
     ]
    }
   ],
   "source": [
    "# Selecting features and target\n",
    "features = copydf_grainonly[['TMAX', 'TMIN', 'TAVG', 'HAVG', 'HDEG', 'CDEG', 'WCMN', 'WSPD', 'ATOT', 'RAIN', 'ET', 'EVI']]\n",
    "target = copydf_grainonly['NEE']\n",
    "\n",
    "# Splitting the data into training and testing sets\n",
    "X_train, X_test, y_train, y_test = train_test_split(features, target, test_size=0.2, random_state=42)\n",
    "\n",
    "# Building the regression model\n",
    "reg_model = LinearRegression()\n",
    "reg_model.fit(X_train, y_train)\n",
    "\n",
    "# Predicting on the test set\n",
    "y_pred = reg_model.predict(X_test)\n",
    "\n",
    "# Evaluating the model\n",
    "r2 = r2_score(y_test, y_pred)\n",
    "rmse = mean_squared_error(y_test, y_pred, squared=False)\n",
    "mae = mean_absolute_error(y_test, y_pred)\n",
    "\n",
    "print(\"MAE : \")\n",
    "print(mae)\n",
    "print(\"RMSE: \")\n",
    "print(rmse)\n",
    "print(\"R2 score: \")\n",
    "print(r2)\n"
   ]
  },
  {
   "cell_type": "markdown",
   "metadata": {},
   "source": [
    "## 5.c"
   ]
  },
  {
   "cell_type": "code",
   "execution_count": 38,
   "metadata": {},
   "outputs": [
    {
     "name": "stdout",
     "output_type": "stream",
     "text": [
      "MAE : \n",
      "0.7292587699492309\n",
      "RMSE: \n",
      "1.1515206292241458\n",
      "R2 score: \n",
      "0.6140982154459034\n"
     ]
    }
   ],
   "source": [
    "# Selecting features and target\n",
    "features = copydf_grainonly[['TMAX', 'TMIN', 'TAVG', 'HAVG', 'HDEG', 'CDEG', 'WCMN', 'WSPD', 'ATOT', 'RAIN', 'NEE', 'ET', 'EVI']]\n",
    "target = copydf_grainonly['ER']\n",
    "\n",
    "# Splitting the data into training and testing sets\n",
    "X_train, X_test, y_train, y_test = train_test_split(features, target, test_size=0.2, random_state=42)\n",
    "\n",
    "# Building the regression model\n",
    "reg_model = LinearRegression()\n",
    "reg_model.fit(X_train, y_train)\n",
    "\n",
    "# Predicting on the test set\n",
    "y_pred = reg_model.predict(X_test)\n",
    "\n",
    "# Evaluating the model\n",
    "r2 = r2_score(y_test, y_pred)\n",
    "rmse = mean_squared_error(y_test, y_pred, squared=False)\n",
    "mae = mean_absolute_error(y_test, y_pred)\n",
    "\n",
    "print(\"MAE : \")\n",
    "print(mae)\n",
    "print(\"RMSE: \")\n",
    "print(rmse)\n",
    "print(\"R2 score: \")\n",
    "print(r2)\n"
   ]
  },
  {
   "cell_type": "markdown",
   "metadata": {},
   "source": [
    "## 6"
   ]
  },
  {
   "cell_type": "code",
   "execution_count": 51,
   "metadata": {},
   "outputs": [
    {
     "data": {
      "text/plain": [
       "(   Feature  Coefficient  Absolute Coefficient\n",
       " 4     HDEG     9.635369              9.635369\n",
       " 5     CDEG    -9.549527              9.549527\n",
       " 0     TMAX     4.801450              4.801450\n",
       " 1     TMIN     4.783968              4.783968\n",
       " 10     EVI     0.472342              0.472342\n",
       " 9     RAIN     0.398802              0.398802\n",
       " 2     TAVG     0.089509              0.089509\n",
       " 3     HAVG    -0.007043              0.007043\n",
       " 8     ATOT     0.000477              0.000477\n",
       " 7     WSPD    -0.000430              0.000430\n",
       " 6     WCMN     0.000417              0.000417,\n",
       "    Feature  Ranking\n",
       " 5     CDEG        1\n",
       " 0     TMAX        2\n",
       " 4     HDEG        3\n",
       " 1     TMIN        4\n",
       " 10     EVI        5\n",
       " 9     RAIN        6\n",
       " 2     TAVG        7\n",
       " 3     HAVG        8\n",
       " 8     ATOT        9\n",
       " 7     WSPD       10\n",
       " 6     WCMN       11)"
      ]
     },
     "execution_count": 51,
     "metadata": {},
     "output_type": "execute_result"
    }
   ],
   "source": [
    "from sklearn.feature_selection import RFE\n",
    "\n",
    "# Prepare features and target variable for ET\n",
    "features = copydf_grainonly[['TMAX', 'TMIN', 'TAVG', 'HAVG', 'HDEG', 'CDEG', 'WCMN', 'WSPD', 'ATOT', 'RAIN', 'EVI']]\n",
    "target = copydf_grainonly['ET']\n",
    "\n",
    "# Initialize and fit the linear regression model\n",
    "lr = LinearRegression()\n",
    "lr.fit(features, target)\n",
    "\n",
    "# Display the coefficients from the linear model\n",
    "coefficients = pd.DataFrame({\n",
    "    'Feature': features.columns,\n",
    "    'Coefficient': lr.coef_,\n",
    "    'Absolute Coefficient': abs(lr.coef_)\n",
    "}).sort_values(by='Absolute Coefficient', ascending=False)\n",
    "\n",
    "# Initialize RFE with linear regression as the estimator\n",
    "rfe = RFE(estimator=LinearRegression(), n_features_to_select=1)\n",
    "rfe.fit(features, target)\n",
    "\n",
    "# RFE Ranking\n",
    "rfe_ranking = pd.DataFrame({\n",
    "    'Feature': features.columns,\n",
    "    'Ranking': rfe.ranking_\n",
    "}).sort_values(by='Ranking')\n",
    "\n",
    "coefficients, rfe_ranking\n"
   ]
  },
  {
   "cell_type": "code",
   "execution_count": 52,
   "metadata": {},
   "outputs": [
    {
     "data": {
      "text/plain": [
       "(   Feature  Coefficient  Absolute Coefficient\n",
       " 4     HDEG    39.308613             39.308613\n",
       " 5     CDEG   -39.209816             39.209816\n",
       " 0     TMAX    19.658294             19.658294\n",
       " 1     TMIN    19.647964             19.647964\n",
       " 10     EVI    -6.506588              6.506588\n",
       " 9     RAIN     1.047428              1.047428\n",
       " 3     HAVG     0.022192              0.022192\n",
       " 2     TAVG    -0.003856              0.003856\n",
       " 6     WCMN    -0.000641              0.000641\n",
       " 7     WSPD    -0.000145              0.000145\n",
       " 8     ATOT    -0.000051              0.000051,\n",
       "    Feature  Ranking\n",
       " 1     TMIN        1\n",
       " 4     HDEG        2\n",
       " 5     CDEG        3\n",
       " 0     TMAX        4\n",
       " 10     EVI        5\n",
       " 9     RAIN        6\n",
       " 3     HAVG        7\n",
       " 2     TAVG        8\n",
       " 6     WCMN        9\n",
       " 7     WSPD       10\n",
       " 8     ATOT       11)"
      ]
     },
     "execution_count": 52,
     "metadata": {},
     "output_type": "execute_result"
    }
   ],
   "source": [
    "# Prepare features and target variable for ET\n",
    "features = copydf_grainonly[['TMAX', 'TMIN', 'TAVG', 'HAVG', 'HDEG', 'CDEG', 'WCMN', 'WSPD', 'ATOT', 'RAIN', 'EVI']]\n",
    "target = copydf_grainonly['NEE']\n",
    "\n",
    "# Initialize and fit the linear regression model\n",
    "lr = LinearRegression()\n",
    "lr.fit(features, target)\n",
    "\n",
    "# Display the coefficients from the linear model\n",
    "coefficients = pd.DataFrame({\n",
    "    'Feature': features.columns,\n",
    "    'Coefficient': lr.coef_,\n",
    "    'Absolute Coefficient': abs(lr.coef_)\n",
    "}).sort_values(by='Absolute Coefficient', ascending=False)\n",
    "\n",
    "# Initialize RFE with linear regression as the estimator\n",
    "rfe = RFE(estimator=LinearRegression(), n_features_to_select=1)\n",
    "rfe.fit(features, target)\n",
    "\n",
    "# RFE Ranking\n",
    "rfe_ranking = pd.DataFrame({\n",
    "    'Feature': features.columns,\n",
    "    'Ranking': rfe.ranking_\n",
    "}).sort_values(by='Ranking')\n",
    "\n",
    "coefficients, rfe_ranking\n"
   ]
  },
  {
   "cell_type": "code",
   "execution_count": 53,
   "metadata": {},
   "outputs": [
    {
     "data": {
      "text/plain": [
       "(   Feature  Coefficient  Absolute Coefficient\n",
       " 5     CDEG    27.929566             27.929566\n",
       " 4     HDEG   -27.825469             27.825469\n",
       " 1     TMIN   -14.009733             14.009733\n",
       " 0     TMAX   -13.960012             13.960012\n",
       " 10     EVI     2.258374              2.258374\n",
       " 9     RAIN     0.923280              0.923280\n",
       " 2     TAVG     0.218687              0.218687\n",
       " 3     HAVG     0.015813              0.015813\n",
       " 7     WSPD    -0.000487              0.000487\n",
       " 8     ATOT     0.000410              0.000410\n",
       " 6     WCMN    -0.000337              0.000337,\n",
       "    Feature  Ranking\n",
       " 5     CDEG        1\n",
       " 4     HDEG        2\n",
       " 1     TMIN        3\n",
       " 0     TMAX        4\n",
       " 10     EVI        5\n",
       " 9     RAIN        6\n",
       " 2     TAVG        7\n",
       " 3     HAVG        8\n",
       " 7     WSPD        9\n",
       " 8     ATOT       10\n",
       " 6     WCMN       11)"
      ]
     },
     "execution_count": 53,
     "metadata": {},
     "output_type": "execute_result"
    }
   ],
   "source": [
    "# Prepare features and target variable for ET\n",
    "features = copydf_grainonly[['TMAX', 'TMIN', 'TAVG', 'HAVG', 'HDEG', 'CDEG', 'WCMN', 'WSPD', 'ATOT', 'RAIN', 'EVI']]\n",
    "target = copydf_grainonly['ER']\n",
    "\n",
    "# Initialize and fit the linear regression model\n",
    "lr = LinearRegression()\n",
    "lr.fit(features, target)\n",
    "\n",
    "# Display the coefficients from the linear model\n",
    "coefficients = pd.DataFrame({\n",
    "    'Feature': features.columns,\n",
    "    'Coefficient': lr.coef_,\n",
    "    'Absolute Coefficient': abs(lr.coef_)\n",
    "}).sort_values(by='Absolute Coefficient', ascending=False)\n",
    "\n",
    "# Initialize RFE with linear regression as the estimator\n",
    "rfe = RFE(estimator=LinearRegression(), n_features_to_select=1)\n",
    "rfe.fit(features, target)\n",
    "\n",
    "# RFE Ranking\n",
    "rfe_ranking = pd.DataFrame({\n",
    "    'Feature': features.columns,\n",
    "    'Ranking': rfe.ranking_\n",
    "}).sort_values(by='Ranking')\n",
    "\n",
    "coefficients, rfe_ranking\n"
   ]
  },
  {
   "cell_type": "code",
   "execution_count": 55,
   "metadata": {},
   "outputs": [
    {
     "data": {
      "text/plain": [
       "(   Feature  Coefficient  Absolute Coefficient\n",
       " 5     CDEG    67.139381             67.139381\n",
       " 4     HDEG   -67.134082             67.134082\n",
       " 1     TMIN   -33.657697             33.657697\n",
       " 0     TMAX   -33.618306             33.618306\n",
       " 10     EVI     8.764962              8.764962\n",
       " 2     TAVG     0.222542              0.222542\n",
       " 9     RAIN    -0.124148              0.124148\n",
       " 3     HAVG    -0.006379              0.006379\n",
       " 8     ATOT     0.000461              0.000461\n",
       " 7     WSPD    -0.000343              0.000343\n",
       " 6     WCMN     0.000304              0.000304,\n",
       "    Feature  Ranking\n",
       " 4     HDEG        1\n",
       " 5     CDEG        2\n",
       " 1     TMIN        3\n",
       " 0     TMAX        4\n",
       " 10     EVI        5\n",
       " 2     TAVG        6\n",
       " 9     RAIN        7\n",
       " 3     HAVG        8\n",
       " 8     ATOT        9\n",
       " 7     WSPD       10\n",
       " 6     WCMN       11)"
      ]
     },
     "execution_count": 55,
     "metadata": {},
     "output_type": "execute_result"
    }
   ],
   "source": [
    "# Prepare features and target variable for ET\n",
    "features = copydf_grainonly[['TMAX', 'TMIN', 'TAVG', 'HAVG', 'HDEG', 'CDEG', 'WCMN', 'WSPD', 'ATOT', 'RAIN', 'EVI']]\n",
    "target = copydf_grainonly['GPP']\n",
    "\n",
    "# Initialize and fit the linear regression model\n",
    "lr = LinearRegression()\n",
    "lr.fit(features, target)\n",
    "\n",
    "# Display the coefficients from the linear model\n",
    "coefficients = pd.DataFrame({\n",
    "    'Feature': features.columns,\n",
    "    'Coefficient': lr.coef_,\n",
    "    'Absolute Coefficient': abs(lr.coef_)\n",
    "}).sort_values(by='Absolute Coefficient', ascending=False)\n",
    "\n",
    "# Initialize RFE with linear regression as the estimator\n",
    "rfe = RFE(estimator=LinearRegression(), n_features_to_select=1)\n",
    "rfe.fit(features, target)\n",
    "\n",
    "# RFE Ranking\n",
    "rfe_ranking = pd.DataFrame({\n",
    "    'Feature': features.columns,\n",
    "    'Ranking': rfe.ranking_\n",
    "}).sort_values(by='Ranking')\n",
    "\n",
    "coefficients, rfe_ranking\n"
   ]
  }
 ],
 "metadata": {
  "kernelspec": {
   "display_name": "Python 3",
   "language": "python",
   "name": "python3"
  },
  "language_info": {
   "codemirror_mode": {
    "name": "ipython",
    "version": 3
   },
   "file_extension": ".py",
   "mimetype": "text/x-python",
   "name": "python",
   "nbconvert_exporter": "python",
   "pygments_lexer": "ipython3",
   "version": "3.11.9"
  }
 },
 "nbformat": 4,
 "nbformat_minor": 2
}
